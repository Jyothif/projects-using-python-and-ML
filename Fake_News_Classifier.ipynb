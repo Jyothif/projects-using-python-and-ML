{
  "nbformat": 4,
  "nbformat_minor": 0,
  "metadata": {
    "colab": {
      "name": "Fake News Classifier",
      "provenance": [],
      "mount_file_id": "1DMKCKpJtFMri585byj4Ejloxrt9lRBtO",
      "authorship_tag": "ABX9TyMqxY/nMbaD0m+Ee/nk2+co",
      "include_colab_link": true
    },
    "kernelspec": {
      "name": "python3",
      "display_name": "Python 3"
    },
    "language_info": {
      "name": "python"
    }
  },
  "cells": [
    {
      "cell_type": "markdown",
      "metadata": {
        "id": "view-in-github",
        "colab_type": "text"
      },
      "source": [
        "<a href=\"https://colab.research.google.com/github/Jyothif/projects-using-python-and-ML/blob/master/Fake_News_Classifier.ipynb\" target=\"_parent\"><img src=\"https://colab.research.google.com/assets/colab-badge.svg\" alt=\"Open In Colab\"/></a>"
      ]
    },
    {
      "cell_type": "code",
      "metadata": {
        "id": "KgGnbpSg075h"
      },
      "source": [
        "import pandas as pd\n",
        "import numpy as np\n",
        "import itertools\n",
        "from sklearn.model_selection import train_test_split\n",
        "from sklearn.feature_extraction.text import TfidfVectorizer\n",
        "from sklearn.linear_model import PassiveAggressiveClassifier\n",
        "from sklearn.metrics import accuracy_score,confusion_matrix\n"
      ],
      "execution_count": 4,
      "outputs": []
    },
    {
      "cell_type": "code",
      "metadata": {
        "colab": {
          "base_uri": "https://localhost:8080/"
        },
        "id": "mEh-QTkc7AHG",
        "outputId": "def4a848-35bb-4903-8cbf-8fc1ea058917"
      },
      "source": [
        "#read the data\n",
        "df = pd.read_csv(\"/content/drive/MyDrive/Datasets/news.csv\")\n",
        "\n",
        "print(\"-\"*75)\n",
        "print(\"The shape of the data set:\",df.shape)\n",
        "print(\"-\"*75)\n",
        "print(\"Head of the dataset:\\n\",df.head())\n",
        "\n"
      ],
      "execution_count": 30,
      "outputs": [
        {
          "output_type": "stream",
          "text": [
            "---------------------------------------------------------------------------\n",
            "The shape of the data set: (6335, 4)\n",
            "---------------------------------------------------------------------------\n",
            "Head of the dataset:\n",
            "    Unnamed: 0  ... label\n",
            "0        8476  ...  FAKE\n",
            "1       10294  ...  FAKE\n",
            "2        3608  ...  REAL\n",
            "3       10142  ...  FAKE\n",
            "4         875  ...  REAL\n",
            "\n",
            "[5 rows x 4 columns]\n"
          ],
          "name": "stdout"
        }
      ]
    },
    {
      "cell_type": "code",
      "metadata": {
        "colab": {
          "base_uri": "https://localhost:8080/"
        },
        "id": "W_HBZ8US8Qp6",
        "outputId": "d4967893-e5f4-4f03-dd6c-dfd233ce5e39"
      },
      "source": [
        "labels = df.label\n",
        "print(\"-\"*75)\n",
        "print(\"printing the head of the labels:\\n\",labels.head())\n",
        "\n",
        "\n"
      ],
      "execution_count": 29,
      "outputs": [
        {
          "output_type": "stream",
          "text": [
            "---------------------------------------------------------------------------\n",
            "printing the head of the labels:\n",
            " 0    FAKE\n",
            "1    FAKE\n",
            "2    REAL\n",
            "3    FAKE\n",
            "4    REAL\n",
            "Name: label, dtype: object\n"
          ],
          "name": "stdout"
        }
      ]
    },
    {
      "cell_type": "code",
      "metadata": {
        "id": "wS3BK6dQ8hBc"
      },
      "source": [
        "#splitting the train and test data\n",
        "\n",
        "X_train,X_test,y_train,y_test = train_test_split(df['text'],\n",
        "                                                 labels,test_size=0.2,random_state=7)"
      ],
      "execution_count": 8,
      "outputs": []
    },
    {
      "cell_type": "code",
      "metadata": {
        "id": "p_cq0Q6l8g-h"
      },
      "source": [
        "tfidf_vect = TfidfVectorizer(stop_words='english',max_df=0.7)\n",
        "\n",
        "\n",
        "tfidf_train= tfidf_vect.fit_transform(X_train)\n",
        "tfidf_test = tfidf_vect.transform(X_test)"
      ],
      "execution_count": 10,
      "outputs": []
    },
    {
      "cell_type": "code",
      "metadata": {
        "colab": {
          "base_uri": "https://localhost:8080/"
        },
        "id": "qnVIrSaO-suL",
        "outputId": "c1ead9b6-c4b7-4a2b-9e7e-21d87f61b077"
      },
      "source": [
        "pac = PassiveAggressiveClassifier(max_iter=50)\n",
        "pac.fit(tfidf_train,y_train)\n",
        "\n",
        "\n",
        "y_pred = pac.predict(tfidf_test)\n",
        "score = accuracy_score(y_test,y_pred)\n",
        "print(f'accuracy:{round(score*100,2)}%')"
      ],
      "execution_count": 13,
      "outputs": [
        {
          "output_type": "stream",
          "text": [
            "accuracy:92.82%\n"
          ],
          "name": "stdout"
        }
      ]
    },
    {
      "cell_type": "code",
      "metadata": {
        "colab": {
          "base_uri": "https://localhost:8080/"
        },
        "id": "rhMPsAbv8g7O",
        "outputId": "c5f6591b-cc7b-41a4-8c50-148e345be1b5"
      },
      "source": [
        "confusion_matrix(y_test,y_pred,labels = ['FAKE','REAL'])"
      ],
      "execution_count": 14,
      "outputs": [
        {
          "output_type": "execute_result",
          "data": {
            "text/plain": [
              "array([[590,  48],\n",
              "       [ 43, 586]])"
            ]
          },
          "metadata": {
            "tags": []
          },
          "execution_count": 14
        }
      ]
    },
    {
      "cell_type": "markdown",
      "metadata": {
        "id": "bcDEyJVt_01w"
      },
      "source": [
        "WE HAVE \n",
        "- 590 TRUE POSITIVES,\n",
        "- 586 TRUE NEGATIVES,\n",
        "- 43 FALSE POSTIVES\n",
        "- 48 FALSE NEGATIVES"
      ]
    },
    {
      "cell_type": "code",
      "metadata": {
        "id": "CTBjQmuL8g3U"
      },
      "source": [
        ""
      ],
      "execution_count": null,
      "outputs": []
    },
    {
      "cell_type": "code",
      "metadata": {
        "id": "Vaanf4xf8g0q"
      },
      "source": [
        ""
      ],
      "execution_count": null,
      "outputs": []
    },
    {
      "cell_type": "code",
      "metadata": {
        "id": "tJqEEtKi8gxp"
      },
      "source": [
        ""
      ],
      "execution_count": null,
      "outputs": []
    },
    {
      "cell_type": "code",
      "metadata": {
        "id": "J1Pfgk0X8guv"
      },
      "source": [
        ""
      ],
      "execution_count": null,
      "outputs": []
    },
    {
      "cell_type": "code",
      "metadata": {
        "id": "trr7jVbU8grc"
      },
      "source": [
        ""
      ],
      "execution_count": null,
      "outputs": []
    },
    {
      "cell_type": "code",
      "metadata": {
        "id": "S4cNqheg8gor"
      },
      "source": [
        ""
      ],
      "execution_count": null,
      "outputs": []
    }
  ]
}