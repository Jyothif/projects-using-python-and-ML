{
 "cells": [
  {
   "cell_type": "code",
   "execution_count": 4,
   "id": "143d41fe",
   "metadata": {},
   "outputs": [
    {
     "name": "stdout",
     "output_type": "stream",
     "text": [
      "please enter any numeric value:3\n",
      "The cube of a give number 3.0 = 27.0\n"
     ]
    }
   ],
   "source": [
    "#cube of a number\n",
    "\n",
    "\n",
    "n = float(input(\"please enter any numeric value:\"))\n",
    "cube = n*n*n\n",
    "print(\"The cube of a give number {0} = {1}\".format(n,cube))"
   ]
  },
  {
   "cell_type": "code",
   "execution_count": 6,
   "id": "1e84f50b",
   "metadata": {},
   "outputs": [
    {
     "name": "stdout",
     "output_type": "stream",
     "text": [
      "Enter the numeric number:5\n",
      "The cube of given number 5.0 = 125.0\n"
     ]
    }
   ],
   "source": [
    "n = float(input(\"Enter the numeric number:\"))\n",
    "cube = n**3\n",
    "print(\"The cube of given number {0} = {1}\".format(n,cube))"
   ]
  },
  {
   "cell_type": "code",
   "execution_count": 7,
   "id": "953f3b86",
   "metadata": {},
   "outputs": [
    {
     "name": "stdout",
     "output_type": "stream",
     "text": [
      "Please Enter a number:4\n",
      "The cube of a given Number 4.0 = 64.0\n"
     ]
    }
   ],
   "source": [
    "#python program to fnd the cube of anumber using functions\n",
    "\n",
    "def cube(num):\n",
    "    return num*num*num\n",
    "\n",
    "number = float(input(\"Please Enter a number:\"))\n",
    "\n",
    "cub = cube(number)\n",
    "\n",
    "print(\"The cube of a given Number {0} = {1}\".format(number,cub))"
   ]
  },
  {
   "cell_type": "code",
   "execution_count": 8,
   "id": "439ce59e",
   "metadata": {},
   "outputs": [
    {
     "name": "stdout",
     "output_type": "stream",
     "text": [
      "Enter the number:5\n",
      "The cube of a given number 5.0 = 125.0\n"
     ]
    }
   ],
   "source": [
    "def cube(num):\n",
    "    return num*num*num\n",
    "\n",
    "n = float(input(\"Enter the number:\"))\n",
    "cub = cube(n) #rference of def function\n",
    "print(\"The cube of a given number {0} = {1}\".format(n,cub))"
   ]
  },
  {
   "cell_type": "code",
   "execution_count": 11,
   "id": "bdc36d8a",
   "metadata": {},
   "outputs": [
    {
     "name": "stdout",
     "output_type": "stream",
     "text": [
      "Enter the number:6\n",
      "The cube of given number 6.0 = 216.0\n"
     ]
    }
   ],
   "source": [
    "def cube(num):\n",
    "    return num*num*num\n",
    "\n",
    "n = float(input(\"Enter the number:\")) #reference to the num defined number\n",
    "cub = cube(n) #cub is the reference to the defined function\n",
    "print(\"The cube of given number {0} = {1}\".format(n,cub))"
   ]
  },
  {
   "cell_type": "code",
   "execution_count": null,
   "id": "ef5c1bcb",
   "metadata": {},
   "outputs": [],
   "source": []
  }
 ],
 "metadata": {
  "kernelspec": {
   "display_name": "Python 3",
   "language": "python",
   "name": "python3"
  },
  "language_info": {
   "codemirror_mode": {
    "name": "ipython",
    "version": 3
   },
   "file_extension": ".py",
   "mimetype": "text/x-python",
   "name": "python",
   "nbconvert_exporter": "python",
   "pygments_lexer": "ipython3",
   "version": "3.8.8"
  }
 },
 "nbformat": 4,
 "nbformat_minor": 5
}
