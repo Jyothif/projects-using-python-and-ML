{
 "cells": [
  {
   "cell_type": "code",
   "execution_count": 2,
   "metadata": {},
   "outputs": [
    {
     "name": "stdout",
     "output_type": "stream",
     "text": [
      "Collecting playsound\n",
      "  Using cached playsound-1.2.2-py2.py3-none-any.whl (6.0 kB)\n",
      "Installing collected packages: playsound\n",
      "Successfully installed playsound-1.2.2\n",
      "Note: you may need to restart the kernel to use updated packages.\n"
     ]
    }
   ],
   "source": [
    "pip install playsound"
   ]
  },
  {
   "cell_type": "markdown",
   "metadata": {},
   "source": [
    "# Alaram Clock with GUI"
   ]
  },
  {
   "cell_type": "code",
   "execution_count": 11,
   "metadata": {},
   "outputs": [],
   "source": [
    "#importing all necessary libraries to form the alarm clock\n",
    "\n",
    "from tkinter import*#Tkinter GUI Based library to create a dialogue box\n",
    "import datetime#helps to works with current dates and times\n",
    "import time#helps to works with current dates and times\n",
    "import winsound#access to the basic sound playing \n"
   ]
  },
  {
   "cell_type": "code",
   "execution_count": 12,
   "metadata": {},
   "outputs": [],
   "source": [
    "#2 Create a loop\n",
    "\n",
    "def alarm(set_alarm_timer):\n",
    "    while True:\n",
    "        time.sleep(1)\n",
    "        current_time = datetime.datetime.now()\n",
    "        now = current_time.strftime(\"%H:%M:%S\")\n",
    "        date = current_time.strftime(\"%d:%m:%Y\")\n",
    "        print(\"The set Date is:\",date)\n",
    "        print(now)\n",
    "        if now == set_alarm_timer:\n",
    "            print(\"Time to Wakeup\")\n",
    "        winsound.PlaySound(\"Sound.wav\",winsound.SND_ASYNC)\n",
    "        break\n",
    "        \n",
    "def actual_time():\n",
    "    set_alarm_timer = f\"{hour.get()}:{mins.get()}:{sec.get()}\"\n",
    "    alarm(set_alarm_timer)"
   ]
  },
  {
   "cell_type": "code",
   "execution_count": 13,
   "metadata": {},
   "outputs": [
    {
     "name": "stdout",
     "output_type": "stream",
     "text": [
      "The set Date is: 23:05:2021\n",
      "15:42:39\n",
      "The set Date is: 23:05:2021\n",
      "15:43:06\n",
      "The set Date is: 23:05:2021\n",
      "15:43:16\n",
      "The set Date is: 23:05:2021\n",
      "15:43:20\n",
      "Time to Wakeup\n"
     ]
    }
   ],
   "source": [
    "# creating GUI using tkinter\n",
    "clock = Tk()\n",
    "\n",
    "clock.title(\"Alarm Clock\")\n",
    "clock.geometry(\"500x300\")\n",
    "time_format = Label(clock,text = \"Enter the time in 24 hour format!\",\n",
    "                   fg = 'blue',bg = 'green',font='Arial').place(x=60,y=120)\n",
    "addTime = Label(clock,text = \"Hour Min Sec\", font = 60).place(x=110)\n",
    "setYourAlarm = Label(clock,text = \"when to wake up\", fg = \"blue\",relief=\"solid\",\n",
    "                     font=(\"Helevetica\",7,\"bold\")).place(x=0,y=29)\n",
    "\n",
    "# the variables we require to set the alarm(initilaization):\n",
    "hour = StringVar()\n",
    "mins = StringVar()\n",
    "sec = StringVar()\n",
    "\n",
    "#Time required to set the alarm clock:\n",
    "hourTime =Entry(clock,textvariable = hour,bg = \"pink\",width=15).place(x=110,y=30)\n",
    "minTime =Entry(clock,textvariable = mins,bg = \"pink\",width=15).place(x=150,y=30)\n",
    "secTime =Entry(clock,textvariable = sec,bg = \"pink\",width=15).place(x=200,y=30)\n",
    "\n",
    "#to take the time input by  user:\n",
    "submit = Button(clock,text = \"Set Alarm\",fg =\"red\",bg=\"red\",width=10,command = actual_time).place(x=110,y=70)\n",
    "\n",
    "clock.mainloop()\n",
    "\n"
   ]
  },
  {
   "cell_type": "code",
   "execution_count": null,
   "metadata": {},
   "outputs": [],
   "source": []
  }
 ],
 "metadata": {
  "kernelspec": {
   "display_name": "Python 3",
   "language": "python",
   "name": "python3"
  }
 },
 "nbformat": 4,
 "nbformat_minor": 4
}
