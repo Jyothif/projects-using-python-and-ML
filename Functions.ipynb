{
 "cells": [
  {
   "cell_type": "markdown",
   "id": "8417f1ca",
   "metadata": {},
   "source": [
    "# Python Functions:"
   ]
  },
  {
   "cell_type": "code",
   "execution_count": 4,
   "id": "fd46310a",
   "metadata": {},
   "outputs": [
    {
     "name": "stdout",
     "output_type": "stream",
     "text": [
      "Odd\n"
     ]
    }
   ],
   "source": [
    "num=3\n",
    "\n",
    "if num%2==0:\n",
    "    print(\"Even\")\n",
    "else:\n",
    "    print(\"Odd\")"
   ]
  },
  {
   "cell_type": "code",
   "execution_count": 5,
   "id": "0f3c1b0a",
   "metadata": {},
   "outputs": [],
   "source": [
    "def even_odd(num):\n",
    "    if num%2==0:\n",
    "        print(\"Even\")\n",
    "    else:\n",
    "        print(\"Odd\")"
   ]
  },
  {
   "cell_type": "code",
   "execution_count": 6,
   "id": "bae45d06",
   "metadata": {},
   "outputs": [
    {
     "name": "stdout",
     "output_type": "stream",
     "text": [
      "Odd\n"
     ]
    }
   ],
   "source": [
    "even_odd(23)"
   ]
  },
  {
   "cell_type": "code",
   "execution_count": 8,
   "id": "fc7e5486",
   "metadata": {},
   "outputs": [],
   "source": [
    "#postional keyword argument\n",
    "#print vs return\n",
    "def hello_world():\n",
    "    print(\"HELLO WELCOME\")"
   ]
  },
  {
   "cell_type": "code",
   "execution_count": 9,
   "id": "96a6ef6a",
   "metadata": {},
   "outputs": [
    {
     "name": "stdout",
     "output_type": "stream",
     "text": [
      "HELLO WELCOME\n"
     ]
    }
   ],
   "source": [
    "hello_world()"
   ]
  },
  {
   "cell_type": "code",
   "execution_count": 11,
   "id": "52a6788e",
   "metadata": {},
   "outputs": [
    {
     "name": "stdout",
     "output_type": "stream",
     "text": [
      "HELLO WELCOME\n"
     ]
    }
   ],
   "source": [
    "var =hello_world()"
   ]
  },
  {
   "cell_type": "code",
   "execution_count": 12,
   "id": "e717b93f",
   "metadata": {},
   "outputs": [
    {
     "name": "stdout",
     "output_type": "stream",
     "text": [
      "None\n"
     ]
    }
   ],
   "source": [
    "print(var)"
   ]
  },
  {
   "cell_type": "code",
   "execution_count": 13,
   "id": "dc890849",
   "metadata": {},
   "outputs": [],
   "source": [
    "def hello_world():\n",
    "    return \"HELLO WELCOME\""
   ]
  },
  {
   "cell_type": "code",
   "execution_count": 14,
   "id": "c8b15e8b",
   "metadata": {},
   "outputs": [],
   "source": [
    "var =hello_world()"
   ]
  },
  {
   "cell_type": "code",
   "execution_count": 15,
   "id": "24e463d8",
   "metadata": {},
   "outputs": [
    {
     "name": "stdout",
     "output_type": "stream",
     "text": [
      "HELLO WELCOME\n"
     ]
    }
   ],
   "source": [
    "print(var)"
   ]
  },
  {
   "cell_type": "code",
   "execution_count": 16,
   "id": "baea71e0",
   "metadata": {},
   "outputs": [],
   "source": [
    "def add_number(num1,num2):\n",
    "    return num1+num2\n",
    "\n",
    "val = add_number(24,34)"
   ]
  },
  {
   "cell_type": "code",
   "execution_count": 17,
   "id": "8e8b5390",
   "metadata": {},
   "outputs": [
    {
     "data": {
      "text/plain": [
       "58"
      ]
     },
     "execution_count": 17,
     "metadata": {},
     "output_type": "execute_result"
    }
   ],
   "source": [
    "val"
   ]
  },
  {
   "cell_type": "code",
   "execution_count": 21,
   "id": "705f6026",
   "metadata": {},
   "outputs": [],
   "source": [
    "# Positional argument\n",
    "# Keyword argument\n",
    "\n",
    "\n",
    "def hello(name,age):\n",
    "    print('My name is{} and age is{}'.format(name,age))"
   ]
  },
  {
   "cell_type": "code",
   "execution_count": 22,
   "id": "e9232cb1",
   "metadata": {},
   "outputs": [
    {
     "name": "stdout",
     "output_type": "stream",
     "text": [
      "My name isJyothi and age is29\n"
     ]
    }
   ],
   "source": [
    "hello('Jyothi',29)"
   ]
  },
  {
   "cell_type": "code",
   "execution_count": 23,
   "id": "01408988",
   "metadata": {},
   "outputs": [
    {
     "name": "stdout",
     "output_type": "stream",
     "text": [
      "('Jyothi', 'P')\n",
      "{'age': 29, 'dobs': 1991}\n"
     ]
    }
   ],
   "source": [
    "def hello(*args,**kwargs): \n",
    "# first one positional argument, second one is keyword arguments\n",
    "    print(args)\n",
    "    print(kwargs)\n",
    "\n",
    "hello(\"Jyothi\",\"P\",age = 29,dobs=1991)"
   ]
  },
  {
   "cell_type": "code",
   "execution_count": 27,
   "id": "d6e3162a",
   "metadata": {},
   "outputs": [],
   "source": [
    "lst = [\"Jyothi\",\"P\"]\n",
    "dict_args = {'age' : 29,'dobs':1991}"
   ]
  },
  {
   "cell_type": "code",
   "execution_count": 29,
   "id": "2c0067ee",
   "metadata": {},
   "outputs": [
    {
     "name": "stdout",
     "output_type": "stream",
     "text": [
      "('Jyothi', 'P')\n",
      "{'age': 29, 'dobs': 1991}\n"
     ]
    }
   ],
   "source": [
    "hello(*lst,**dict_args)"
   ]
  },
  {
   "cell_type": "code",
   "execution_count": 31,
   "id": "0d26267f",
   "metadata": {},
   "outputs": [],
   "source": [
    "lst=[1,2,3,4,5,6,7,8,9]\n",
    "def evenoddsum(lst):\n",
    "    even_sum=0\n",
    "    odd_sum=0\n",
    "    for i in lst:\n",
    "        if i%2==0:\n",
    "            even_sum=even_sum+i\n",
    "        else:\n",
    "            odd_sum=odd_sum+i\n",
    "    return even_sum,odd_sum\n",
    "            "
   ]
  },
  {
   "cell_type": "code",
   "execution_count": 32,
   "id": "31de8860",
   "metadata": {},
   "outputs": [
    {
     "data": {
      "text/plain": [
       "(20, 25)"
      ]
     },
     "execution_count": 32,
     "metadata": {},
     "output_type": "execute_result"
    }
   ],
   "source": [
    "evenoddsum(lst)"
   ]
  },
  {
   "cell_type": "markdown",
   "id": "482ab201",
   "metadata": {},
   "source": [
    "# LAMBDA FUNCTION\n",
    "\n",
    "ANYNONMOUS FUCNTION\n",
    "A FUCNTION HAS NO NAME"
   ]
  },
  {
   "cell_type": "code",
   "execution_count": 33,
   "id": "de4f305f",
   "metadata": {},
   "outputs": [],
   "source": [
    "def addition(a,b):\n",
    "    return a+b"
   ]
  },
  {
   "cell_type": "code",
   "execution_count": 34,
   "id": "2bc536c8",
   "metadata": {},
   "outputs": [
    {
     "data": {
      "text/plain": [
       "9"
      ]
     },
     "execution_count": 34,
     "metadata": {},
     "output_type": "execute_result"
    }
   ],
   "source": [
    "addition(4,5)"
   ]
  },
  {
   "cell_type": "code",
   "execution_count": 35,
   "id": "91290f7d",
   "metadata": {},
   "outputs": [],
   "source": [
    "addition= lambda a,b:a+b #rhs has operations and keywords in the lhs"
   ]
  },
  {
   "cell_type": "code",
   "execution_count": 36,
   "id": "a8059075",
   "metadata": {},
   "outputs": [
    {
     "data": {
      "text/plain": [
       "27"
      ]
     },
     "execution_count": 36,
     "metadata": {},
     "output_type": "execute_result"
    }
   ],
   "source": [
    "addition(13,14)"
   ]
  },
  {
   "cell_type": "code",
   "execution_count": 38,
   "id": "e9d2267a",
   "metadata": {},
   "outputs": [],
   "source": [
    "sub = lambda a,b:a-b"
   ]
  },
  {
   "cell_type": "code",
   "execution_count": 39,
   "id": "b9484aa0",
   "metadata": {},
   "outputs": [
    {
     "data": {
      "text/plain": [
       "-2"
      ]
     },
     "execution_count": 39,
     "metadata": {},
     "output_type": "execute_result"
    }
   ],
   "source": [
    "sub(1,3)"
   ]
  },
  {
   "cell_type": "code",
   "execution_count": 40,
   "id": "78e4a0c5",
   "metadata": {},
   "outputs": [],
   "source": [
    "def even(num):\n",
    "    if num%2==0:\n",
    "        return True"
   ]
  },
  {
   "cell_type": "code",
   "execution_count": 48,
   "id": "57d95f4d",
   "metadata": {},
   "outputs": [],
   "source": [
    "even(31)"
   ]
  },
  {
   "cell_type": "code",
   "execution_count": 44,
   "id": "9b02d53f",
   "metadata": {},
   "outputs": [],
   "source": [
    "even1=lambda a:a%2==0"
   ]
  },
  {
   "cell_type": "code",
   "execution_count": 46,
   "id": "f5a4c211",
   "metadata": {},
   "outputs": [
    {
     "data": {
      "text/plain": [
       "False"
      ]
     },
     "execution_count": 46,
     "metadata": {},
     "output_type": "execute_result"
    }
   ],
   "source": [
    "even1(13)"
   ]
  },
  {
   "cell_type": "code",
   "execution_count": 50,
   "id": "6463fef9",
   "metadata": {},
   "outputs": [],
   "source": [
    "def add(x,y,z):\n",
    "    return x+y+z"
   ]
  },
  {
   "cell_type": "code",
   "execution_count": 51,
   "id": "a35734b0",
   "metadata": {},
   "outputs": [
    {
     "data": {
      "text/plain": [
       "8"
      ]
     },
     "execution_count": 51,
     "metadata": {},
     "output_type": "execute_result"
    }
   ],
   "source": [
    "add(2,3,3)"
   ]
  },
  {
   "cell_type": "code",
   "execution_count": 52,
   "id": "8ff2343d",
   "metadata": {},
   "outputs": [],
   "source": [
    "add1 =lambda x,y,z:x+y+z"
   ]
  },
  {
   "cell_type": "code",
   "execution_count": 53,
   "id": "6148bd8e",
   "metadata": {},
   "outputs": [
    {
     "data": {
      "text/plain": [
       "8"
      ]
     },
     "execution_count": 53,
     "metadata": {},
     "output_type": "execute_result"
    }
   ],
   "source": [
    "add(1,3,4)"
   ]
  },
  {
   "cell_type": "code",
   "execution_count": null,
   "id": "8ec4e765",
   "metadata": {},
   "outputs": [],
   "source": []
  }
 ],
 "metadata": {
  "kernelspec": {
   "display_name": "Python 3",
   "language": "python",
   "name": "python3"
  },
  "language_info": {
   "codemirror_mode": {
    "name": "ipython",
    "version": 3
   },
   "file_extension": ".py",
   "mimetype": "text/x-python",
   "name": "python",
   "nbconvert_exporter": "python",
   "pygments_lexer": "ipython3",
   "version": "3.8.8"
  }
 },
 "nbformat": 4,
 "nbformat_minor": 5
}
