{
 "cells": [
  {
   "cell_type": "code",
   "execution_count": 2,
   "id": "3f1402c5",
   "metadata": {},
   "outputs": [
    {
     "name": "stdout",
     "output_type": "stream",
     "text": [
      "Please Enter the principal amount:5000000\n",
      "please enter thr rate of interest:2\n",
      "Please enter the time period in years:5\n",
      "\n",
      " Simple Interest for Principal Amount 5000000.0 = 500000.0\n"
     ]
    }
   ],
   "source": [
    "# python program to calculate Simple Interest\n",
    "\n",
    "\n",
    "\n",
    "princ_amount = float(input(\"Please Enter the principal amount:\"))\n",
    "rate_of_int = float(input(\"please enter thr rate of interest:\"))\n",
    "time_period = float(input(\"Please enter the time period in years:\"))\n",
    "\n",
    "\n",
    "simple_Int = (princ_amount*rate_of_int*time_period)/100\n",
    "\n",
    "print(\"\\n Simple Interest for Principal Amount {0} = {1}\".format(princ_amount,simple_Int))"
   ]
  },
  {
   "cell_type": "code",
   "execution_count": null,
   "id": "82282a43",
   "metadata": {},
   "outputs": [],
   "source": []
  }
 ],
 "metadata": {
  "kernelspec": {
   "display_name": "Python 3",
   "language": "python",
   "name": "python3"
  },
  "language_info": {
   "codemirror_mode": {
    "name": "ipython",
    "version": 3
   },
   "file_extension": ".py",
   "mimetype": "text/x-python",
   "name": "python",
   "nbconvert_exporter": "python",
   "pygments_lexer": "ipython3",
   "version": "3.8.8"
  }
 },
 "nbformat": 4,
 "nbformat_minor": 5
}
