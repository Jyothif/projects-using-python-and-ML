{
 "cells": [
  {
   "cell_type": "code",
   "execution_count": 1,
   "id": "b486f52c",
   "metadata": {},
   "outputs": [],
   "source": [
    "# Python program to calculate Electricity Bill"
   ]
  },
  {
   "cell_type": "code",
   "execution_count": 2,
   "id": "e386b06e",
   "metadata": {},
   "outputs": [
    {
     "name": "stderr",
     "output_type": "stream",
     "text": [
      "<>:13: SyntaxWarning: 'int' object is not callable; perhaps you missed a comma?\n",
      "<>:13: SyntaxWarning: 'int' object is not callable; perhaps you missed a comma?\n"
     ]
    },
    {
     "name": "stdout",
     "output_type": "stream",
     "text": [
      "Please enter number of units you consumed:80\n",
      "Electricity bill = 262.50\n"
     ]
    },
    {
     "name": "stderr",
     "output_type": "stream",
     "text": [
      "<ipython-input-2-5515687f47b2>:13: SyntaxWarning: 'int' object is not callable; perhaps you missed a comma?\n",
      "  amount = 130+162.50+526((units-200)*8.45)\n"
     ]
    }
   ],
   "source": [
    "units = int(input(\"Please enter number of units you consumed:\"))\n",
    "\n",
    "if(units<50):\n",
    "    amount = units*2.60\n",
    "    surcharge = 25\n",
    "elif(units<=100):\n",
    "    amount = 130+((units-50)*3.25)\n",
    "    surcharge = 35\n",
    "elif(units<=200):\n",
    "    amount = 130+162.50+((units-100)*5.26)\n",
    "    surcharge = 45\n",
    "else:\n",
    "    amount = 130+162.50+526((units-200)*8.45)\n",
    "    surchage=75\n",
    "\n",
    "total = amount+surcharge\n",
    "print(\"Electricity bill = %.2f\" %total)\n"
   ]
  },
  {
   "cell_type": "code",
   "execution_count": 4,
   "id": "3f31a711",
   "metadata": {},
   "outputs": [
    {
     "name": "stdout",
     "output_type": "stream",
     "text": [
      "Please enter number of units are consumed:80\n",
      "\n",
      " Electricity Bill = 205.00\n"
     ]
    }
   ],
   "source": [
    "units = int(input(\"Please enter number of units are consumed:\"))\n",
    "\n",
    "\n",
    "if(units>500):\n",
    "    amount = units*9.65\n",
    "    surchage = 85\n",
    "elif(units>=300):\n",
    "    amount = units*7.75\n",
    "    surchage =75\n",
    "elif(units>=200):\n",
    "    amount = units*5.26\n",
    "    surchage = 55\n",
    "elif(units>=100):\n",
    "    amount = units*2.25\n",
    "    surcharge = 35\n",
    "else:\n",
    "    amount = units*2.25\n",
    "    surcharge = 25\n",
    "\n",
    "total = amount+surcharge\n",
    "print(\"\\n Electricity Bill = %.2f\" %total)\n",
    "    "
   ]
  },
  {
   "cell_type": "code",
   "execution_count": null,
   "id": "67a1ba1c",
   "metadata": {},
   "outputs": [],
   "source": []
  }
 ],
 "metadata": {
  "kernelspec": {
   "display_name": "Python 3",
   "language": "python",
   "name": "python3"
  },
  "language_info": {
   "codemirror_mode": {
    "name": "ipython",
    "version": 3
   },
   "file_extension": ".py",
   "mimetype": "text/x-python",
   "name": "python",
   "nbconvert_exporter": "python",
   "pygments_lexer": "ipython3",
   "version": "3.8.8"
  }
 },
 "nbformat": 4,
 "nbformat_minor": 5
}
